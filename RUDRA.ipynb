{
  "nbformat": 4,
  "nbformat_minor": 0,
  "metadata": {
    "colab": {
      "name": "RUDRA.ipynb",
      "provenance": [],
      "authorship_tag": "*********",
      "include_colab_link": true
    },
    "kernelspec": {
      "name": "python3",
      "display_name": "Python 3"
    },
    "accelerator": "GPU"
  },
  "cells": [
    {
      "cell_type": "markdown",
      "metadata": {
        "id": "view-in-github",
        "colab_type": "text"
      },
      "source": [
        "<a href=\"https://colab.research.google.com/github/vsrnitp/Emotion-Recognition-Dataset/blob/main/RUDRA.ipynb\" target=\"_parent\"><img src=\"https://colab.research.google.com/assets/colab-badge.svg\" alt=\"Open In Colab\"/></a>"
      ]
    },
    {
      "cell_type": "code",
      "metadata": {
        "id": "CQHb-aCGiYhe"
      },
      "source": [
        "#writing down the API key for Custom google search...\r\n",
        "api_key = \"*********\""
      ],
      "execution_count": 12,
      "outputs": []
    },
    {
      "cell_type": "code",
      "metadata": {
        "id": "LSvzD5RuxIXG"
      },
      "source": [
        "#installing the google API fro python client....\r\n",
        "pip install google-api-python-client"
      ],
      "execution_count": null,
      "outputs": []
    },
    {
      "cell_type": "code",
      "metadata": {
        "id": "CwgoZc2gxQxk"
      },
      "source": [
        "from apiclient.discovery import build"
      ],
      "execution_count": 10,
      "outputs": []
    },
    {
      "cell_type": "code",
      "metadata": {
        "id": "aYAPzdEZxdB_"
      },
      "source": [
        "#initiate customSearch resource....\r\n",
        "resource = build(\"customsearch\",'v1',developerKey=api_key).cse()"
      ],
      "execution_count": 13,
      "outputs": []
    },
    {
      "cell_type": "code",
      "metadata": {
        "id": "BEbYCWjqyDh7"
      },
      "source": [
        "type(resource)"
      ],
      "execution_count": null,
      "outputs": []
    },
    {
      "cell_type": "code",
      "metadata": {
        "id": "US2QotedyYeI"
      },
      "source": [
        "#Executing search by passing search query....\r\n",
        "result = resource.list(q='elon-musk',cx='5b33ce03fbaac6118').execute()"
      ],
      "execution_count": 21,
      "outputs": []
    },
    {
      "cell_type": "code",
      "metadata": {
        "id": "JIdt7XX6y7gA"
      },
      "source": [
        "#looping through the search results....\r\n",
        "for item in result['items']:\r\n",
        "  print(item['title'])\r\n",
        "  print(item['htmlSnippet'])\r\n",
        "  print(item['link'])\r\n",
        "  print(\"\\n\")\r\n",
        "  print(\"\\n\")\r\n"
      ],
      "execution_count": null,
      "outputs": []
    },
    {
      "cell_type": "code",
      "metadata": {
        "id": "6iXejGih2NjS"
      },
      "source": [
        "#searching images....\r\n",
        "img_result = resource.list(q='elon-musk',cx='5b33ce03fbaac6118',searchType='image').execute()"
      ],
      "execution_count": 43,
      "outputs": []
    },
    {
      "cell_type": "code",
      "metadata": {
        "id": "NBXH9RAJ2cIE"
      },
      "source": [
        "img_result"
      ],
      "execution_count": null,
      "outputs": []
    },
    {
      "cell_type": "markdown",
      "metadata": {
        "id": "gp2ifwk89DcF"
      },
      "source": [
        "**Implementing the ML model for EMOTION RECOGNITION based on Text**\r\n",
        "\r\n",
        "\r\n",
        "\r\n",
        "\r\n"
      ]
    },
    {
      "cell_type": "code",
      "metadata": {
        "id": "CIBWbsZ39giU"
      },
      "source": [
        "#importing Pandas for data analysis and manipulation......\r\n",
        "import pandas as pd"
      ],
      "execution_count": 2,
      "outputs": []
    },
    {
      "cell_type": "code",
      "metadata": {
        "id": "ZKaC_AXv_AGk"
      },
      "source": [
        "#importing test dataset.... [using separator(sep) for separating the data afte encountering semicolon(;)]\r\n",
        "test_dataset_url = 'https://raw.githubusercontent.com/vsrnitp/Emotion-Recognition-Dataset/main/test.txt'\r\n",
        "test_dataset = pd.read_csv(test_dataset_url,sep=\";\",header=None)\r\n"
      ],
      "execution_count": 3,
      "outputs": []
    },
    {
      "cell_type": "code",
      "metadata": {
        "colab": {
          "base_uri": "https://localhost:8080/",
          "height": 195
        },
        "id": "F_GqePptBXF_",
        "outputId": "17f82bfc-3e3f-4e26-9aeb-dbab0929d29c"
      },
      "source": [
        "test_dataset.head()"
      ],
      "execution_count": 4,
      "outputs": [
        {
          "output_type": "execute_result",
          "data": {
            "text/html": [
              "<div>\n",
              "<style scoped>\n",
              "    .dataframe tbody tr th:only-of-type {\n",
              "        vertical-align: middle;\n",
              "    }\n",
              "\n",
              "    .dataframe tbody tr th {\n",
              "        vertical-align: top;\n",
              "    }\n",
              "\n",
              "    .dataframe thead th {\n",
              "        text-align: right;\n",
              "    }\n",
              "</style>\n",
              "<table border=\"1\" class=\"dataframe\">\n",
              "  <thead>\n",
              "    <tr style=\"text-align: right;\">\n",
              "      <th></th>\n",
              "      <th>0</th>\n",
              "      <th>1</th>\n",
              "    </tr>\n",
              "  </thead>\n",
              "  <tbody>\n",
              "    <tr>\n",
              "      <th>0</th>\n",
              "      <td>im feeling rather rotten so im not very ambiti...</td>\n",
              "      <td>sadness</td>\n",
              "    </tr>\n",
              "    <tr>\n",
              "      <th>1</th>\n",
              "      <td>im updating my blog because i feel shitty</td>\n",
              "      <td>sadness</td>\n",
              "    </tr>\n",
              "    <tr>\n",
              "      <th>2</th>\n",
              "      <td>i never make her separate from me because i do...</td>\n",
              "      <td>sadness</td>\n",
              "    </tr>\n",
              "    <tr>\n",
              "      <th>3</th>\n",
              "      <td>i left with my bouquet of red and yellow tulip...</td>\n",
              "      <td>joy</td>\n",
              "    </tr>\n",
              "    <tr>\n",
              "      <th>4</th>\n",
              "      <td>i was feeling a little vain when i did this one</td>\n",
              "      <td>sadness</td>\n",
              "    </tr>\n",
              "  </tbody>\n",
              "</table>\n",
              "</div>"
            ],
            "text/plain": [
              "                                                   0        1\n",
              "0  im feeling rather rotten so im not very ambiti...  sadness\n",
              "1          im updating my blog because i feel shitty  sadness\n",
              "2  i never make her separate from me because i do...  sadness\n",
              "3  i left with my bouquet of red and yellow tulip...      joy\n",
              "4    i was feeling a little vain when i did this one  sadness"
            ]
          },
          "metadata": {
            "tags": []
          },
          "execution_count": 4
        }
      ]
    },
    {
      "cell_type": "code",
      "metadata": {
        "id": "b9br4b28BlzT"
      },
      "source": [
        "#importing train dataset....\r\n",
        "train_dataset_url = 'https://raw.githubusercontent.com/vsrnitp/Emotion-Recognition-Dataset/main/train.txt'\r\n",
        "train_dataset = pd.read_csv(train_dataset_url,sep=\";\",header=None)"
      ],
      "execution_count": 5,
      "outputs": []
    },
    {
      "cell_type": "code",
      "metadata": {
        "colab": {
          "base_uri": "https://localhost:8080/",
          "height": 195
        },
        "id": "0wmsG_ULCArL",
        "outputId": "b655eafe-22c7-4f3b-8bc4-1063b505437a"
      },
      "source": [
        "train_dataset.head()"
      ],
      "execution_count": 6,
      "outputs": [
        {
          "output_type": "execute_result",
          "data": {
            "text/html": [
              "<div>\n",
              "<style scoped>\n",
              "    .dataframe tbody tr th:only-of-type {\n",
              "        vertical-align: middle;\n",
              "    }\n",
              "\n",
              "    .dataframe tbody tr th {\n",
              "        vertical-align: top;\n",
              "    }\n",
              "\n",
              "    .dataframe thead th {\n",
              "        text-align: right;\n",
              "    }\n",
              "</style>\n",
              "<table border=\"1\" class=\"dataframe\">\n",
              "  <thead>\n",
              "    <tr style=\"text-align: right;\">\n",
              "      <th></th>\n",
              "      <th>0</th>\n",
              "      <th>1</th>\n",
              "    </tr>\n",
              "  </thead>\n",
              "  <tbody>\n",
              "    <tr>\n",
              "      <th>0</th>\n",
              "      <td>i didnt feel humiliated</td>\n",
              "      <td>sadness</td>\n",
              "    </tr>\n",
              "    <tr>\n",
              "      <th>1</th>\n",
              "      <td>i can go from feeling so hopeless to so damned...</td>\n",
              "      <td>sadness</td>\n",
              "    </tr>\n",
              "    <tr>\n",
              "      <th>2</th>\n",
              "      <td>im grabbing a minute to post i feel greedy wrong</td>\n",
              "      <td>anger</td>\n",
              "    </tr>\n",
              "    <tr>\n",
              "      <th>3</th>\n",
              "      <td>i am ever feeling nostalgic about the fireplac...</td>\n",
              "      <td>love</td>\n",
              "    </tr>\n",
              "    <tr>\n",
              "      <th>4</th>\n",
              "      <td>i am feeling grouchy</td>\n",
              "      <td>anger</td>\n",
              "    </tr>\n",
              "  </tbody>\n",
              "</table>\n",
              "</div>"
            ],
            "text/plain": [
              "                                                   0        1\n",
              "0                            i didnt feel humiliated  sadness\n",
              "1  i can go from feeling so hopeless to so damned...  sadness\n",
              "2   im grabbing a minute to post i feel greedy wrong    anger\n",
              "3  i am ever feeling nostalgic about the fireplac...     love\n",
              "4                               i am feeling grouchy    anger"
            ]
          },
          "metadata": {
            "tags": []
          },
          "execution_count": 6
        }
      ]
    },
    {
      "cell_type": "code",
      "metadata": {
        "id": "lGa1Bm51CGQ8"
      },
      "source": [
        "#importing validation dataset.....\r\n",
        "val_dataset_url = 'https://raw.githubusercontent.com/vsrnitp/Emotion-Recognition-Dataset/main/val.txt'\r\n",
        "val_dataset = pd.read_csv(val_dataset_url,sep=\";\",header=None)"
      ],
      "execution_count": 7,
      "outputs": []
    },
    {
      "cell_type": "code",
      "metadata": {
        "colab": {
          "base_uri": "https://localhost:8080/",
          "height": 195
        },
        "id": "j3__ty2yCbtP",
        "outputId": "3a3b6fd5-ed76-4585-fa1f-157cb3930a17"
      },
      "source": [
        "val_dataset.head()"
      ],
      "execution_count": 8,
      "outputs": [
        {
          "output_type": "execute_result",
          "data": {
            "text/html": [
              "<div>\n",
              "<style scoped>\n",
              "    .dataframe tbody tr th:only-of-type {\n",
              "        vertical-align: middle;\n",
              "    }\n",
              "\n",
              "    .dataframe tbody tr th {\n",
              "        vertical-align: top;\n",
              "    }\n",
              "\n",
              "    .dataframe thead th {\n",
              "        text-align: right;\n",
              "    }\n",
              "</style>\n",
              "<table border=\"1\" class=\"dataframe\">\n",
              "  <thead>\n",
              "    <tr style=\"text-align: right;\">\n",
              "      <th></th>\n",
              "      <th>0</th>\n",
              "      <th>1</th>\n",
              "    </tr>\n",
              "  </thead>\n",
              "  <tbody>\n",
              "    <tr>\n",
              "      <th>0</th>\n",
              "      <td>im feeling quite sad and sorry for myself but ...</td>\n",
              "      <td>sadness</td>\n",
              "    </tr>\n",
              "    <tr>\n",
              "      <th>1</th>\n",
              "      <td>i feel like i am still looking at a blank canv...</td>\n",
              "      <td>sadness</td>\n",
              "    </tr>\n",
              "    <tr>\n",
              "      <th>2</th>\n",
              "      <td>i feel like a faithful servant</td>\n",
              "      <td>love</td>\n",
              "    </tr>\n",
              "    <tr>\n",
              "      <th>3</th>\n",
              "      <td>i am just feeling cranky and blue</td>\n",
              "      <td>anger</td>\n",
              "    </tr>\n",
              "    <tr>\n",
              "      <th>4</th>\n",
              "      <td>i can have for a treat or if i am feeling festive</td>\n",
              "      <td>joy</td>\n",
              "    </tr>\n",
              "  </tbody>\n",
              "</table>\n",
              "</div>"
            ],
            "text/plain": [
              "                                                   0        1\n",
              "0  im feeling quite sad and sorry for myself but ...  sadness\n",
              "1  i feel like i am still looking at a blank canv...  sadness\n",
              "2                     i feel like a faithful servant     love\n",
              "3                  i am just feeling cranky and blue    anger\n",
              "4  i can have for a treat or if i am feeling festive      joy"
            ]
          },
          "metadata": {
            "tags": []
          },
          "execution_count": 8
        }
      ]
    },
    {
      "cell_type": "code",
      "metadata": {
        "colab": {
          "base_uri": "https://localhost:8080/",
          "height": 0
        },
        "id": "l50AmTCJC9rX",
        "outputId": "1ea939e7-8675-4e46-9b2f-521de068be7b"
      },
      "source": [
        "#importing numpy for linear algebra applications...\r\n",
        "import numpy as np\r\n",
        "#seeing the info...\r\n",
        "test_dataset.info()\r\n",
        "train_dataset.info()\r\n",
        "val_dataset.info()"
      ],
      "execution_count": 9,
      "outputs": [
        {
          "output_type": "stream",
          "text": [
            "<class 'pandas.core.frame.DataFrame'>\n",
            "RangeIndex: 2000 entries, 0 to 1999\n",
            "Data columns (total 2 columns):\n",
            " #   Column  Non-Null Count  Dtype \n",
            "---  ------  --------------  ----- \n",
            " 0   0       2000 non-null   object\n",
            " 1   1       2000 non-null   object\n",
            "dtypes: object(2)\n",
            "memory usage: 31.4+ KB\n",
            "<class 'pandas.core.frame.DataFrame'>\n",
            "RangeIndex: 16000 entries, 0 to 15999\n",
            "Data columns (total 2 columns):\n",
            " #   Column  Non-Null Count  Dtype \n",
            "---  ------  --------------  ----- \n",
            " 0   0       16000 non-null  object\n",
            " 1   1       16000 non-null  object\n",
            "dtypes: object(2)\n",
            "memory usage: 250.1+ KB\n",
            "<class 'pandas.core.frame.DataFrame'>\n",
            "RangeIndex: 2000 entries, 0 to 1999\n",
            "Data columns (total 2 columns):\n",
            " #   Column  Non-Null Count  Dtype \n",
            "---  ------  --------------  ----- \n",
            " 0   0       2000 non-null   object\n",
            " 1   1       2000 non-null   object\n",
            "dtypes: object(2)\n",
            "memory usage: 31.4+ KB\n"
          ],
          "name": "stdout"
        }
      ]
    },
    {
      "cell_type": "code",
      "metadata": {
        "colab": {
          "base_uri": "https://localhost:8080/",
          "height": 0
        },
        "id": "Vapi54qfDcNs",
        "outputId": "d1508bf6-d9f2-45e8-d578-37be780ab6e5"
      },
      "source": [
        "# Splitting X and Y [aka statement and emotion] and getting the number of data that we have....\r\n",
        "x_train = train_dataset.iloc[:,0] \r\n",
        "y_train = train_dataset.iloc[:,1] \r\n",
        "\r\n",
        "x_test = test_dataset.iloc[:,0] \r\n",
        "y_test = test_dataset.iloc[:,1] \r\n",
        "\r\n",
        "x_val = val_dataset.iloc[:,0] \r\n",
        "y_val = val_dataset.iloc[:,1] \r\n",
        "\r\n",
        "x_train,y_train = np.array(x_train),np.array(y_train)\r\n",
        "x_test,y_test = np.array(x_test),np.array(y_test)\r\n",
        "x_val,y_val = np.array(x_val),np.array(y_val)\r\n",
        "\r\n",
        "print(x_train.shape,\"|\",y_train.shape)\r\n",
        "print(x_test.shape,\"|\",y_test.shape)\r\n",
        "print(x_val.shape,\"|\",y_val.shape)"
      ],
      "execution_count": 10,
      "outputs": [
        {
          "output_type": "stream",
          "text": [
            "(16000,) | (16000,)\n",
            "(2000,) | (2000,)\n",
            "(2000,) | (2000,)\n"
          ],
          "name": "stdout"
        }
      ]
    },
    {
      "cell_type": "code",
      "metadata": {
        "colab": {
          "base_uri": "https://localhost:8080/",
          "height": 0
        },
        "id": "QEHqEIqwFsJV",
        "outputId": "626c7891-388c-4c33-a234-0aa89382421f"
      },
      "source": [
        "#Now converting Y (i.e - emotions) to integers.... [We have only five emotions over here]\r\n",
        "#Also encoding the emotions using label Encoder....\r\n",
        "print(train_dataset.iloc[:,1].value_counts())\r\n",
        "\r\n",
        "int_y_train = []\r\n",
        "int_y_test = []\r\n",
        "int_y_val = []\r\n",
        "\r\n",
        "for l in y_train:\r\n",
        "    \r\n",
        "    if l == \"joy\":        \r\n",
        "        int_y_train.append(0)\r\n",
        "        \r\n",
        "    if l == \"sadness\":       \r\n",
        "        int_y_train.append(1)            \r\n",
        "    if l == \"anger\":      \r\n",
        "        int_y_train.append(2)      \r\n",
        "    if l == \"fear\":\r\n",
        "        int_y_train.append(3)\r\n",
        "    if l == \"love\":\r\n",
        "        int_y_train.append(4)\r\n",
        "    if l == \"surprise\":\r\n",
        "        int_y_train.append(5)\r\n",
        "        \r\n",
        "        \r\n",
        "for l in y_test:\r\n",
        "    \r\n",
        "    if l == \"joy\":        \r\n",
        "        int_y_test.append(0)\r\n",
        "        \r\n",
        "    if l == \"sadness\":       \r\n",
        "        int_y_test.append(1)            \r\n",
        "    if l == \"anger\":      \r\n",
        "        int_y_test.append(2)      \r\n",
        "    if l == \"fear\":\r\n",
        "        int_y_test.append(3)\r\n",
        "    if l == \"love\":\r\n",
        "        int_y_test.append(4)\r\n",
        "    if l == \"surprise\":\r\n",
        "        int_y_test.append(5)\r\n",
        "        \r\n",
        "for l in y_val:\r\n",
        "    \r\n",
        "    if l == \"joy\":        \r\n",
        "        int_y_val.append(0)\r\n",
        "        \r\n",
        "    if l == \"sadness\":       \r\n",
        "        int_y_val.append(1)            \r\n",
        "    if l == \"anger\":      \r\n",
        "        int_y_val.append(2)      \r\n",
        "    if l == \"fear\":\r\n",
        "        int_y_val.append(3)\r\n",
        "    if l == \"love\":\r\n",
        "        int_y_val.append(4)\r\n",
        "    if l == \"surprise\":\r\n",
        "        int_y_val.append(5)\r\n",
        "        \r\n",
        "\r\n",
        "\r\n",
        "        \r\n",
        "int_y_train,int_y_test,int_y_val = np.array(int_y_train),np.array(int_y_test),np.array(int_y_val)\r\n",
        "from sklearn import preprocessing\r\n",
        "from keras.utils import np_utils\r\n",
        "\r\n",
        "le = preprocessing.LabelEncoder()\r\n",
        "le.fit(int_y_train)\r\n",
        "\r\n",
        "encoded_y_train = le.transform(int_y_train)\r\n",
        "encoded_y_test = le.transform(int_y_test)\r\n",
        "encoded_y_val = le.transform(int_y_val)\r\n",
        "\r\n",
        "encoded_y_train = np_utils.to_categorical(encoded_y_train)\r\n",
        "encoded_y_test = np_utils.to_categorical(encoded_y_test)\r\n",
        "encoded_y_val = np_utils.to_categorical(encoded_y_val)\r\n",
        "\r\n",
        "#Here we are checking the emotions after getting encoded....\r\n",
        "print(encoded_y_test)\r\n",
        "\r\n",
        "#printing the label encoded value upto 10th row....\r\n",
        "print(int_y_test[:10])"
      ],
      "execution_count": 11,
      "outputs": [
        {
          "output_type": "stream",
          "text": [
            "joy         5362\n",
            "sadness     4666\n",
            "anger       2159\n",
            "fear        1937\n",
            "love        1304\n",
            "surprise     572\n",
            "Name: 1, dtype: int64\n",
            "[[0. 1. 0. 0. 0. 0.]\n",
            " [0. 1. 0. 0. 0. 0.]\n",
            " [0. 1. 0. 0. 0. 0.]\n",
            " ...\n",
            " [1. 0. 0. 0. 0. 0.]\n",
            " [1. 0. 0. 0. 0. 0.]\n",
            " [0. 0. 0. 1. 0. 0.]]\n",
            "[1 1 1 0 1 3 2 0 0 2]\n"
          ],
          "name": "stdout"
        }
      ]
    },
    {
      "cell_type": "code",
      "metadata": {
        "colab": {
          "base_uri": "https://localhost:8080/",
          "height": 0
        },
        "id": "EblMyWU-IOF8",
        "outputId": "46561601-cc4b-46ce-f5a2-86bf8181d669"
      },
      "source": [
        "#importing nltk...\r\n",
        "import nltk\r\n",
        "nltk.download('stopwords')"
      ],
      "execution_count": 12,
      "outputs": [
        {
          "output_type": "stream",
          "text": [
            "[nltk_data] Downloading package stopwords to /root/nltk_data...\n",
            "[nltk_data]   Unzipping corpora/stopwords.zip.\n"
          ],
          "name": "stdout"
        },
        {
          "output_type": "execute_result",
          "data": {
            "text/plain": [
              "True"
            ]
          },
          "metadata": {
            "tags": []
          },
          "execution_count": 12
        }
      ]
    },
    {
      "cell_type": "code",
      "metadata": {
        "colab": {
          "base_uri": "https://localhost:8080/",
          "height": 0
        },
        "id": "vYvPSSW7LjAv",
        "outputId": "133964b6-2041-486f-941d-0a76cd5ae1a1"
      },
      "source": [
        "#Peforming Tokenization , padding and sequesting...\r\n",
        "from tensorflow.python.keras.preprocessing.text import Tokenizer\r\n",
        "from tensorflow.python.keras.preprocessing.sequence import pad_sequences\r\n",
        "from nltk.corpus import stopwords\r\n",
        "\r\n",
        "stopwords = stopwords.words('english')\r\n",
        "\r\n",
        "x_train_cl = []\r\n",
        "x_test_cl = []\r\n",
        "x_val_cl = []\r\n",
        "\r\n",
        "\r\n",
        "# Deleting stopwords\r\n",
        "for text in x_train:\r\n",
        "    \r\n",
        "    text = text.split()\r\n",
        "    text = [word for word in text if word not in stopwords]\r\n",
        "    text = \" \".join(text)\r\n",
        "    x_train_cl.append(text)\r\n",
        "    \r\n",
        "for text in x_test:\r\n",
        "    \r\n",
        "    text = text.split()\r\n",
        "    text = [word for word in text if word not in stopwords]\r\n",
        "    text = \" \".join(text)\r\n",
        "    x_test_cl.append(text)\r\n",
        "\r\n",
        "for text in x_val:\r\n",
        "    \r\n",
        "    text = text.split()\r\n",
        "    text = [word for word in text if word not in stopwords]\r\n",
        "    text = \" \".join(text)\r\n",
        "    x_val_cl.append(text)\r\n",
        "    \r\n",
        "x_train,x_test,x_val = np.array(x_train_cl),np.array(x_test_cl),np.array(x_val_cl)\r\n",
        "\r\n",
        "# We use total_text for fitting tokenizer in general \r\n",
        "total_text = np.concatenate((x_train,x_test,x_val),axis=0)\r\n",
        "\r\n",
        "num_words = 2000\r\n",
        "\r\n",
        "tokenizer = Tokenizer(num_words = num_words) \r\n",
        "\r\n",
        "tokenizer.fit_on_texts(total_text)\r\n",
        "\r\n",
        "list(tokenizer.word_index)[:10]"
      ],
      "execution_count": 13,
      "outputs": [
        {
          "output_type": "execute_result",
          "data": {
            "text/plain": [
              "['feel',\n",
              " 'feeling',\n",
              " 'like',\n",
              " 'im',\n",
              " 'really',\n",
              " 'know',\n",
              " 'time',\n",
              " 'little',\n",
              " 'get',\n",
              " 'people']"
            ]
          },
          "metadata": {
            "tags": []
          },
          "execution_count": 13
        }
      ]
    },
    {
      "cell_type": "code",
      "metadata": {
        "colab": {
          "base_uri": "https://localhost:8080/",
          "height": 0
        },
        "id": "x-WymZ-xMFvo",
        "outputId": "fa457ca1-79a9-4ee7-a2e1-220942924df2"
      },
      "source": [
        "#Now we will tokenize everything.....\r\n",
        "x_train_token = tokenizer.texts_to_sequences(x_train)\r\n",
        "x_test_token = tokenizer.texts_to_sequences(x_test)\r\n",
        "x_val_token = tokenizer.texts_to_sequences(x_val)\r\n",
        "\r\n",
        "total_token = np.concatenate((x_train_token,x_test_token,x_val_token),axis=0)"
      ],
      "execution_count": 14,
      "outputs": [
        {
          "output_type": "stream",
          "text": [
            "<string>:6: VisibleDeprecationWarning: Creating an ndarray from ragged nested sequences (which is a list-or-tuple of lists-or-tuples-or ndarrays with different lengths or shapes) is deprecated. If you meant to do this, you must specify 'dtype=object' when creating the ndarray\n"
          ],
          "name": "stderr"
        }
      ]
    },
    {
      "cell_type": "code",
      "metadata": {
        "colab": {
          "base_uri": "https://localhost:8080/",
          "height": 0
        },
        "id": "tdufubx-MWKW",
        "outputId": "db8c6842-cb70-4a8c-c1e7-14ec3287c81b"
      },
      "source": [
        "# Padding (Getting the mean length of the text....)\r\n",
        "print(np.mean([len(text) for text in total_token]))"
      ],
      "execution_count": 15,
      "outputs": [
        {
          "output_type": "stream",
          "text": [
            "7.65465\n"
          ],
          "name": "stdout"
        }
      ]
    },
    {
      "cell_type": "code",
      "metadata": {
        "colab": {
          "base_uri": "https://localhost:8080/",
          "height": 0
        },
        "id": "ppM0anadMwwn",
        "outputId": "a969e07f-e4c0-432c-bd4d-e861388fc55a"
      },
      "source": [
        "#Using 20 as padding....\r\n",
        "x_train_pad = pad_sequences(x_train_token,20) \r\n",
        "x_test_pad = pad_sequences(x_test_token,20)\r\n",
        "x_val_pad = pad_sequences(x_val_token,20)\r\n",
        "\r\n",
        "print(x_train_pad[0],end=\"\\n-------------------------------------------------------------------------\\n\")\r\n",
        "print(x_train_pad[1])"
      ],
      "execution_count": 16,
      "outputs": [
        {
          "output_type": "stream",
          "text": [
            "[  0   0   0   0   0   0   0   0   0   0   0   0   0   0   0   0   0  50\n",
            "   1 510]\n",
            "-------------------------------------------------------------------------\n",
            "[   0    0    0    0    0    0    0    0    0    0    0    0   31    2\n",
            "  409  432   44   54 1565 1252]\n"
          ],
          "name": "stdout"
        }
      ]
    },
    {
      "cell_type": "code",
      "metadata": {
        "colab": {
          "base_uri": "https://localhost:8080/",
          "height": 0
        },
        "id": "ajPx_vYjM7hP",
        "outputId": "dc35363e-2dac-4383-ccba-0d705db3158d"
      },
      "source": [
        "#Now building a simple RNN model.....\r\n",
        "from tensorflow.python.keras.models import Sequential\r\n",
        "from tensorflow.python.keras.layers import Dense,CuDNNGRU,Embedding,Bidirectional\r\n",
        "\r\n",
        "\r\n",
        "model = Sequential()\r\n",
        "\r\n",
        "model.add(Embedding(input_dim=2000\r\n",
        "                   ,output_dim=100\r\n",
        "                   ,input_length=20))\r\n",
        "\r\n",
        "model.add(Bidirectional(CuDNNGRU(units=16,return_sequences=True)))\r\n",
        "\r\n",
        "model.add(Bidirectional(CuDNNGRU(units=8)))\r\n",
        "\r\n",
        "model.add(Dense(6,activation=\"softmax\"))\r\n",
        "\r\n",
        "model.compile(loss=\"categorical_crossentropy\",optimizer=\"rmsprop\",metrics=[\"accuracy\"])\r\n",
        "\r\n",
        "model.summary()"
      ],
      "execution_count": 17,
      "outputs": [
        {
          "output_type": "stream",
          "text": [
            "Model: \"sequential\"\n",
            "_________________________________________________________________\n",
            "Layer (type)                 Output Shape              Param #   \n",
            "=================================================================\n",
            "embedding (Embedding)        (None, 20, 100)           200000    \n",
            "_________________________________________________________________\n",
            "bidirectional (Bidirectional (None, 20, 32)            11328     \n",
            "_________________________________________________________________\n",
            "bidirectional_1 (Bidirection (None, 16)                2016      \n",
            "_________________________________________________________________\n",
            "dense (Dense)                (None, 6)                 102       \n",
            "=================================================================\n",
            "Total params: 213,446\n",
            "Trainable params: 213,446\n",
            "Non-trainable params: 0\n",
            "_________________________________________________________________\n"
          ],
          "name": "stdout"
        }
      ]
    },
    {
      "cell_type": "code",
      "metadata": {
        "colab": {
          "base_uri": "https://localhost:8080/",
          "height": 0
        },
        "id": "OV7h6eJ7PGJD",
        "outputId": "30e52f7a-804a-4785-e2d6-c9fe4be36f6b"
      },
      "source": [
        "#fitting the data and running epochs...\r\n",
        "print(x_train_pad.shape)\r\n",
        "print(y_train.shape)\r\n",
        "model.fit(x_train_pad,encoded_y_train,epochs=10,batch_size=20)"
      ],
      "execution_count": 18,
      "outputs": [
        {
          "output_type": "stream",
          "text": [
            "(16000, 20)\n",
            "(16000,)\n",
            "Epoch 1/10\n",
            "800/800 [==============================] - 19s 9ms/step - loss: 1.3409 - accuracy: 0.4813\n",
            "Epoch 2/10\n",
            "800/800 [==============================] - 7s 9ms/step - loss: 0.4745 - accuracy: 0.8506\n",
            "Epoch 3/10\n",
            "800/800 [==============================] - 7s 9ms/step - loss: 0.2765 - accuracy: 0.9100\n",
            "Epoch 4/10\n",
            "800/800 [==============================] - 7s 9ms/step - loss: 0.2045 - accuracy: 0.9257\n",
            "Epoch 5/10\n",
            "800/800 [==============================] - 7s 9ms/step - loss: 0.1639 - accuracy: 0.9366\n",
            "Epoch 6/10\n",
            "800/800 [==============================] - 7s 9ms/step - loss: 0.1417 - accuracy: 0.9443\n",
            "Epoch 7/10\n",
            "800/800 [==============================] - 7s 9ms/step - loss: 0.1267 - accuracy: 0.9514\n",
            "Epoch 8/10\n",
            "800/800 [==============================] - 7s 9ms/step - loss: 0.1157 - accuracy: 0.9543\n",
            "Epoch 9/10\n",
            "800/800 [==============================] - 7s 9ms/step - loss: 0.1214 - accuracy: 0.9536\n",
            "Epoch 10/10\n",
            "800/800 [==============================] - 7s 9ms/step - loss: 0.1070 - accuracy: 0.9582\n"
          ],
          "name": "stdout"
        },
        {
          "output_type": "execute_result",
          "data": {
            "text/plain": [
              "<tensorflow.python.keras.callbacks.History at 0x7f028c029320>"
            ]
          },
          "metadata": {
            "tags": []
          },
          "execution_count": 18
        }
      ]
    },
    {
      "cell_type": "code",
      "metadata": {
        "colab": {
          "base_uri": "https://localhost:8080/",
          "height": 0
        },
        "id": "BJT0IMwRRAE2",
        "outputId": "7a477f10-e5c8-479d-8588-0488201eb649"
      },
      "source": [
        "#Now printing the accuracy score...\r\n",
        "preds = model.predict_classes(x_test_pad)\r\n",
        "from sklearn.metrics import accuracy_score\r\n",
        "\r\n",
        "accuracy_score(preds,int_y_test)"
      ],
      "execution_count": 19,
      "outputs": [
        {
          "output_type": "stream",
          "text": [
            "/usr/local/lib/python3.6/dist-packages/tensorflow/python/keras/engine/sequential.py:450: UserWarning: `model.predict_classes()` is deprecated and will be removed after 2021-01-01. Please use instead:* `np.argmax(model.predict(x), axis=-1)`,   if your model does multi-class classification   (e.g. if it uses a `softmax` last-layer activation).* `(model.predict(x) > 0.5).astype(\"int32\")`,   if your model does binary classification   (e.g. if it uses a `sigmoid` last-layer activation).\n",
            "  warnings.warn('`model.predict_classes()` is deprecated and '\n"
          ],
          "name": "stderr"
        },
        {
          "output_type": "execute_result",
          "data": {
            "text/plain": [
              "0.9185"
            ]
          },
          "metadata": {
            "tags": []
          },
          "execution_count": 19
        }
      ]
    },
    {
      "cell_type": "code",
      "metadata": {
        "colab": {
          "base_uri": "https://localhost:8080/",
          "height": 0
        },
        "id": "kx4jp7IVRR6l",
        "outputId": "062dff20-dd0e-4c7c-ed54-c9244f8584a6"
      },
      "source": [
        "#Now using the model to predict emotion for a sentence....\r\n",
        "\r\n",
        "#firstly receiving the input that needs to be analyzed....\r\n",
        "input = ['I was shocked to see him in the office']\r\n",
        "#tokenizing the input.....\r\n",
        "tokenized_input = tokenizer.texts_to_sequences(input)\r\n",
        "#padding the input.....\r\n",
        "padded_input = pad_sequences(tokenized_input,20)\r\n",
        "#print(padded_input)\r\n",
        "#predicting the output emotion class....\r\n",
        "predicted_emotion_class = model.predict_classes(padded_input)\r\n",
        "#converting the segmented class codes to emotions.....\r\n",
        "predicted_emotion = \"null\"\r\n",
        "for emotions in predicted_emotion_class:\r\n",
        "  if emotions==0:\r\n",
        "    #print(\"Joyful\")\r\n",
        "    predicted_emotion = \"Joyful\"\r\n",
        "  if emotions==1:\r\n",
        "    #print(\"Sad\")\r\n",
        "    predicted_emotion = \"Sad\"\r\n",
        "  if emotions==2:\r\n",
        "    #print(\"Angry\")\r\n",
        "    predicted_emotion = \"Angry\"\r\n",
        "  if emotions==3:\r\n",
        "    #print(\"Fearful\")\r\n",
        "    predicted_emotion = \"Fearful\"\r\n",
        "  if emotions==4:\r\n",
        "    #print(\"In Love\")\r\n",
        "    predicted_emotion = \"In Love\"\r\n",
        "  if emotions==5:\r\n",
        "    #print(\"Surprised\")\r\n",
        "    predicted_emotion = \"Surprised\"\r\n",
        "\r\n",
        "print(predicted_emotion)\r\n",
        " \r\n"
      ],
      "execution_count": 73,
      "outputs": [
        {
          "output_type": "stream",
          "text": [
            "Surprised\n"
          ],
          "name": "stdout"
        },
        {
          "output_type": "stream",
          "text": [
            "/usr/local/lib/python3.6/dist-packages/tensorflow/python/keras/engine/sequential.py:450: UserWarning: `model.predict_classes()` is deprecated and will be removed after 2021-01-01. Please use instead:* `np.argmax(model.predict(x), axis=-1)`,   if your model does multi-class classification   (e.g. if it uses a `softmax` last-layer activation).* `(model.predict(x) > 0.5).astype(\"int32\")`,   if your model does binary classification   (e.g. if it uses a `sigmoid` last-layer activation).\n",
            "  warnings.warn('`model.predict_classes()` is deprecated and '\n"
          ],
          "name": "stderr"
        }
      ]
    }
  ]
}
